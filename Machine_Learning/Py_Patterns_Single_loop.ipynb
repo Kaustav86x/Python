{
 "cells": [
  {
   "cell_type": "code",
   "execution_count": 21,
   "id": "ce6a9065",
   "metadata": {},
   "outputs": [
    {
     "name": "stdout",
     "output_type": "stream",
     "text": [
      "Enter the no. of lines : 5\n",
      "\n",
      "*\n",
      "**\n",
      "***\n",
      "****\n",
      "*****\n"
     ]
    }
   ],
   "source": [
    "inp1 = int(input(\"Enter the no. of lines : \"))\n",
    "for i in range(inp1+1):\n",
    "    print(\"*\" * i)"
   ]
  },
  {
   "cell_type": "code",
   "execution_count": 2,
   "id": "0ad1d930",
   "metadata": {},
   "outputs": [
    {
     "name": "stdout",
     "output_type": "stream",
     "text": [
      "Enter the no. of lines : 5\n",
      "*****\n",
      "****\n",
      "***\n",
      "**\n",
      "*\n"
     ]
    }
   ],
   "source": [
    "inp2 = int(input(\"Enter the no. of lines : \"))\n",
    "for i in range(inp2, 0, -1):\n",
    "    print(\"*\" * i)"
   ]
  },
  {
   "cell_type": "code",
   "execution_count": 4,
   "id": "a36098b2",
   "metadata": {},
   "outputs": [
    {
     "name": "stdout",
     "output_type": "stream",
     "text": [
      "Enter the no. of lines : 5\n",
      "      *\n",
      "     **\n",
      "    ***\n",
      "   ****\n",
      "  *****\n"
     ]
    }
   ],
   "source": [
    "inp3 = int(input(\"Enter the no. of lines : \"))\n",
    "j = 1\n",
    "for i in range(inp3, 0, -1):\n",
    "    print(\" \" * i, \"*\" * j)\n",
    "    j+=1"
   ]
  },
  {
   "cell_type": "code",
   "execution_count": 6,
   "id": "742297d0",
   "metadata": {},
   "outputs": [
    {
     "name": "stdout",
     "output_type": "stream",
     "text": [
      "Enter the no. of lines : 5\n",
      " *****\n",
      "  ****\n",
      "   ***\n",
      "    **\n",
      "     *\n"
     ]
    }
   ],
   "source": [
    "inp4 = int(input(\"Enter the no. of lines : \"))\n",
    "j = 0\n",
    "for i in range(inp4, 0, -1):\n",
    "    print(\" \" * j, \"*\" * i)\n",
    "    j+=1"
   ]
  },
  {
   "cell_type": "code",
   "execution_count": 34,
   "id": "b912e4ca",
   "metadata": {},
   "outputs": [
    {
     "name": "stdout",
     "output_type": "stream",
     "text": [
      "Enter the no. of lines : 5\n",
      "      *\n",
      "     **\n",
      "    ***\n",
      "   ****\n",
      "  *****\n",
      "   ****\n",
      "    ***\n",
      "     **\n",
      "      *\n"
     ]
    }
   ],
   "source": [
    "inp5 = int(input(\"Enter the no. of lines : \"))\n",
    "j = 1\n",
    "k = 2\n",
    "for i in range(inp5, 0, -1):\n",
    "    print(\" \" * i, \"*\" * j)\n",
    "    j+=1\n",
    "for i in range(inp5-1, 0, -1):\n",
    "    print(\" \" * k, \"*\" * i)\n",
    "    k+=1"
   ]
  },
  {
   "cell_type": "code",
   "execution_count": 16,
   "id": "5d9c9e16",
   "metadata": {},
   "outputs": [
    {
     "name": "stdout",
     "output_type": "stream",
     "text": [
      "Enter the no. of lines : 5\n",
      "      *\n",
      "     ***\n",
      "    *****\n",
      "   *******\n",
      "  *********\n"
     ]
    }
   ],
   "source": [
    "inp6 = int(input(\"Enter the no. of lines : \"))\n",
    "j = 1\n",
    "for i in range(inp6, 0, -1):\n",
    "    print(\" \" * i, \"*\" * (2*j-1))\n",
    "    j += 1"
   ]
  },
  {
   "cell_type": "code",
   "execution_count": 2,
   "id": "c7a26a26",
   "metadata": {},
   "outputs": [
    {
     "name": "stdout",
     "output_type": "stream",
     "text": [
      "Enter the no. of lines : 5\n",
      "      *\n",
      "     ***\n",
      "    *****\n",
      "   *******\n",
      "  *********\n",
      "   *******\n",
      "    *****\n",
      "     ***\n",
      "      *\n"
     ]
    }
   ],
   "source": [
    "inp7 = int(input(\"Enter the no. of lines : \"))\n",
    "j = 1\n",
    "k = 2\n",
    "for i in range(inp7, 0, -1):\n",
    "    print(\" \" * i, \"*\" * (2*j-1))\n",
    "    j += 1\n",
    "for i in range(inp7-1, 0, -1):\n",
    "    print(\" \" * k, \"*\" * (2*i-1))\n",
    "    k += 1"
   ]
  },
  {
   "cell_type": "code",
   "execution_count": 50,
   "id": "727af5d1",
   "metadata": {},
   "outputs": [
    {
     "name": "stdout",
     "output_type": "stream",
     "text": [
      "Enter the no. of lines : 5\n",
      "           \n",
      "        1  \n",
      "      1 2  \n",
      "    1 2 3  \n",
      "  1 2 3 4  \n",
      "1 2 3 4 5  \n"
     ]
    }
   ],
   "source": [
    "inp9 = int(input(\"Enter the no. of lines : \"))\n",
    "for i in range(inp9+1):\n",
    "    num = 1\n",
    "    for j in range(inp9, 0, -1):\n",
    "        if j > i:\n",
    "            print(\" \",end=\" \")\n",
    "        else:\n",
    "            print(num, end=\" \")\n",
    "            num += 1\n",
    "    print(\" \")"
   ]
  },
  {
   "cell_type": "code",
   "execution_count": 31,
   "id": "b8354b89",
   "metadata": {},
   "outputs": [
    {
     "name": "stdout",
     "output_type": "stream",
     "text": [
      "Enter the no. of lines : 5\n",
      "    1\n",
      "   121\n",
      "  12321\n",
      " 1234321\n",
      "123454321\n"
     ]
    }
   ],
   "source": [
    "n = int(input(\"Enter the no. of lines : \"))\n",
    "for i in range(1,n+1):\n",
    "    for j in range(1, n+1-i):\n",
    "        print(' ', end='')\n",
    "    for j in range(1,i+1):\n",
    "        print(j, end='')\n",
    "    for j in range(i-1,0,-1):\n",
    "        print(j, end='')\n",
    "    print()"
   ]
  },
  {
   "cell_type": "code",
   "execution_count": 32,
   "id": "64dbe82c",
   "metadata": {},
   "outputs": [
    {
     "name": "stdout",
     "output_type": "stream",
     "text": [
      "Enter the no. of lines : 5\n",
      "    1\n",
      "   212\n",
      "  32123\n",
      " 4321234\n",
      "543212345\n"
     ]
    }
   ],
   "source": [
    "n1 = int(input('Enter the no. of lines : '))\n",
    "for i in range(1,n1+1):\n",
    "    for j in range(1, n1+1-i):\n",
    "        print(' ', end='')\n",
    "    for j in range(i,0,-1):\n",
    "        print(j, end='') \n",
    "    for j in range(2,i+1):\n",
    "        print(j, end='')\n",
    "    print()"
   ]
  },
  {
   "cell_type": "code",
   "execution_count": 37,
   "id": "d02fa8a6",
   "metadata": {},
   "outputs": [
    {
     "name": "stdout",
     "output_type": "stream",
     "text": [
      "     *\n",
      "    **\n",
      "   ***\n",
      "  ****\n",
      " *****\n",
      "  ****\n",
      "   ***\n",
      "    **\n",
      "     *\n"
     ]
    }
   ],
   "source": [
    "for i in range(1, 10):\n",
    "    if i < 6:\n",
    "        print(\" \"*(5-i), \"*\"*i)\n",
    "    else:\n",
    "        print(\" \"*(i-5), \"*\"*(10-i))"
   ]
  },
  {
   "cell_type": "code",
   "execution_count": 44,
   "id": "ff8d12e4",
   "metadata": {},
   "outputs": [
    {
     "name": "stdout",
     "output_type": "stream",
     "text": [
      "     *\n",
      "    ***\n",
      "   *****\n",
      "  *******\n",
      " *********\n",
      "  *******\n",
      "   *****\n",
      "    ***\n",
      "     *\n"
     ]
    }
   ],
   "source": [
    "for i in range(1, 10):\n",
    "    if i < 5:\n",
    "        print(\" \"*(5-i), \"*\"*(2*i-1))\n",
    "    else:\n",
    "        print(\" \"*(i-5), \"*\"*(20 - 2*i-1))"
   ]
  },
  {
   "cell_type": "code",
   "execution_count": 48,
   "id": "9e04d9c7",
   "metadata": {},
   "outputs": [
    {
     "name": "stdout",
     "output_type": "stream",
     "text": [
      "**********\n",
      "****  ****\n",
      "***    ***\n",
      "**      **\n",
      "*        *\n",
      "**      **\n",
      "***    ***\n",
      "****  ****\n",
      "**********\n"
     ]
    }
   ],
   "source": [
    "for i in range(1, 10):\n",
    "    if i < 6:\n",
    "        print(\"*\"*(6-i) + \" \"*((i*2)-2)+\"*\"*(6-i))\n",
    "    else:\n",
    "        print(\"*\"*(i-4) + \" \"*(((10-i)*2)-2) + \"*\"*(i-4))"
   ]
  }
 ],
 "metadata": {
  "kernelspec": {
   "display_name": "Python 3",
   "language": "python",
   "name": "python3"
  },
  "language_info": {
   "codemirror_mode": {
    "name": "ipython",
    "version": 3
   },
   "file_extension": ".py",
   "mimetype": "text/x-python",
   "name": "python",
   "nbconvert_exporter": "python",
   "pygments_lexer": "ipython3",
   "version": "3.8.8"
  }
 },
 "nbformat": 4,
 "nbformat_minor": 5
}
